{
  "nbformat": 4,
  "nbformat_minor": 0,
  "metadata": {
    "colab": {
      "name": "PROJECT-117.ipynb",
      "provenance": [],
      "collapsed_sections": [],
      "include_colab_link": true
    },
    "kernelspec": {
      "name": "python3",
      "display_name": "Python 3"
    },
    "language_info": {
      "name": "python"
    }
  },
  "cells": [
    {
      "cell_type": "markdown",
      "metadata": {
        "id": "view-in-github",
        "colab_type": "text"
      },
      "source": [
        "<a href=\"https://colab.research.google.com/github/Mayank300/PROJECT-117/blob/main/PROJECT_117.ipynb\" target=\"_parent\"><img src=\"https://colab.research.google.com/assets/colab-badge.svg\" alt=\"Open In Colab\"/></a>"
      ]
    },
    {
      "cell_type": "code",
      "metadata": {
        "id": "z1wlo3ce00FP",
        "colab": {
          "base_uri": "https://localhost:8080/"
        },
        "outputId": "76c1808b-fb72-4723-a04c-164a3a98d69b"
      },
      "source": [
        "import pandas as pd\n",
        "from sklearn.metrics import confusion_matrix\n",
        "import seaborn as sns\n",
        "import matplotlib.pyplot as plt  \n",
        "\n",
        "df = pd.read_csv(\"https://raw.githubusercontent.com/whitehatjr/datasets/master/c117/BankNote_Authentication.csv\")\n",
        "\n",
        "print(df.head())"
      ],
      "execution_count": null,
      "outputs": [
        {
          "output_type": "stream",
          "text": [
            "   variance  skewness  curtosis  entropy  class\n",
            "0   3.62160    8.6661   -2.8073 -0.44699      0\n",
            "1   4.54590    8.1674   -2.4586 -1.46210      0\n",
            "2   3.86600   -2.6383    1.9242  0.10645      0\n",
            "3   3.45660    9.5228   -4.0112 -3.59440      0\n",
            "4   0.32924   -4.4552    4.5718 -0.98880      0\n"
          ],
          "name": "stdout"
        }
      ]
    },
    {
      "cell_type": "code",
      "metadata": {
        "id": "7nTumgLBqIni"
      },
      "source": [
        ""
      ],
      "execution_count": null,
      "outputs": []
    },
    {
      "cell_type": "code",
      "metadata": {
        "id": "hRrLffVd04kh"
      },
      "source": [
        "from sklearn.model_selection import train_test_split \n",
        "\n",
        "variance = df[\"variance\"]\n",
        "class_data = df[\"class\"]\n",
        "\n",
        "variance_train, variance_test, class_data_train, class_data_test = train_test_split(variance, class_data, test_size = 0.25, random_state = 0)"
      ],
      "execution_count": null,
      "outputs": []
    },
    {
      "cell_type": "code",
      "metadata": {
        "id": "DJY_riIR072K",
        "colab": {
          "base_uri": "https://localhost:8080/"
        },
        "outputId": "533a4f36-20d2-404d-ffe7-3c521f2772c0"
      },
      "source": [
        "from sklearn.linear_model import LogisticRegression\n",
        "import numpy as np\n",
        "\n",
        "X = np.reshape(age_train.ravel(), (len(age_train), 1))\n",
        "Y = np.reshape(heart_attack_train.ravel(), (len(heart_attack_train), 1))\n",
        "\n",
        "classifier = LogisticRegression(random_state = 0) \n",
        "classifier.fit(X, Y)"
      ],
      "execution_count": null,
      "outputs": [
        {
          "output_type": "stream",
          "text": [
            "/usr/local/lib/python3.7/dist-packages/sklearn/utils/validation.py:760: DataConversionWarning: A column-vector y was passed when a 1d array was expected. Please change the shape of y to (n_samples, ), for example using ravel().\n",
            "  y = column_or_1d(y, warn=True)\n"
          ],
          "name": "stderr"
        },
        {
          "output_type": "execute_result",
          "data": {
            "text/plain": [
              "LogisticRegression(C=1.0, class_weight=None, dual=False, fit_intercept=True,\n",
              "                   intercept_scaling=1, l1_ratio=None, max_iter=100,\n",
              "                   multi_class='auto', n_jobs=None, penalty='l2',\n",
              "                   random_state=0, solver='lbfgs', tol=0.0001, verbose=0,\n",
              "                   warm_start=False)"
            ]
          },
          "metadata": {
            "tags": []
          },
          "execution_count": 15
        }
      ]
    },
    {
      "cell_type": "code",
      "metadata": {
        "id": "VUXd-4oE0_79"
      },
      "source": [
        "X_test = np.reshape(age_test.ravel(), (len(age_test), 1))\n",
        "Y_test = np.reshape(heart_attack_test.ravel(), (len(heart_attack_test), 1))\n",
        "\n",
        "heart_attack_prediction = classifier.predict(X_test)\n",
        "\n",
        "predicted_values = []\n",
        "for i in heart_attack_prediction:\n",
        "  if i == 0:\n",
        "    predicted_values.append(\"No\")\n",
        "  else:\n",
        "    predicted_values.append(\"Yes\")\n",
        "\n",
        "actual_values = []\n",
        "for i in Y_test.ravel():\n",
        "  if i == 0:\n",
        "    actual_values.append(\"No\")\n",
        "  else:\n",
        "    actual_values.append(\"Yes\")"
      ],
      "execution_count": null,
      "outputs": []
    },
    {
      "cell_type": "code",
      "metadata": {
        "id": "zqBpkIDu1FLj",
        "colab": {
          "base_uri": "https://localhost:8080/",
          "height": 312
        },
        "outputId": "0edc56a1-d5eb-4867-f302-b5dacbee3a63"
      },
      "source": [
        "labels = [\"Yes\", \"No\"]\n",
        "\n",
        "cm = confusion_matrix(actual_values, predicted_values, labels)\n",
        "\n",
        "ax= plt.subplot()\n",
        "sns.heatmap(cm, annot=True, ax = ax)\n",
        "\n",
        "ax.set_xlabel('Predicted')\n",
        "ax.set_ylabel('Actual') \n",
        "ax.set_title('Confusion Matrix')\n",
        "ax.xaxis.set_ticklabels(labels); ax.yaxis.set_ticklabels(labels)"
      ],
      "execution_count": null,
      "outputs": [
        {
          "output_type": "execute_result",
          "data": {
            "text/plain": [
              "[Text(0, 0.5, 'Yes'), Text(0, 1.5, 'No')]"
            ]
          },
          "metadata": {
            "tags": []
          },
          "execution_count": 17
        },
        {
          "output_type": "display_data",
          "data": {
            "image/png": "[encoded data removed]",
            "text/plain": [
              "<Figure size 432x288 with 2 Axes>"
            ]
          },
          "metadata": {
            "tags": [],
            "needs_background": "light"
          }
        }
      ]
    },
    {
      "cell_type": "code",
      "metadata": {
        "id": "Oh2HXxOi1KN5",
        "colab": {
          "base_uri": "https://localhost:8080/"
        },
        "outputId": "2dc3980a-41ec-492c-aad1-8931e9933f98"
      },
      "source": [
        "# FORMULA : \n",
        "# Accuracy (all correct / all) = TP + TN / TP + TN + FP + FN.\n",
        "\n",
        "accuracy = (1.2e+02 + 1.7e+02) / (1.2e+02 + 1.7e+02 + 29 + 27)\n",
        "\n",
        "print(accuracy)"
      ],
      "execution_count": null,
      "outputs": [
        {
          "output_type": "stream",
          "text": [
            "0.838150289017341\n"
          ],
          "name": "stdout"
        }
      ]
    }
  ]
}